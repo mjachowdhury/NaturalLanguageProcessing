{
 "cells": [
  {
   "cell_type": "code",
   "execution_count": null,
   "metadata": {
    "id": "iMNIo2ICw3ql"
   },
   "outputs": [],
   "source": [
    "#Mohammed Alom R00144214\n",
    "\n",
    "#Importing required models\n",
    "from keras.preprocessing.text import Tokenizer\n",
    "from keras.preprocessing.sequence import pad_sequences\n",
    "from keras.utils import to_categorical\n",
    "from keras.models import Sequential\n",
    "from keras.layers import Dense, Embedding,GRU,LSTM,Bidirectional,Dropout,Conv1D,MaxPooling1D\n",
    "from keras.wrappers.scikit_learn import KerasClassifier\n",
    "from keras.callbacks import EarlyStopping\n",
    "from keras import regularizers\n",
    "\n",
    "from sklearn.ensemble import VotingClassifier\n",
    "from sklearn import model_selection\n",
    "from sklearn.metrics import accuracy_score\n",
    "from sklearn.model_selection import StratifiedKFold\n",
    "from sklearn import metrics\n",
    "\n",
    "import numpy as np\n",
    "import os\n",
    "import seaborn as sns\n",
    "import matplotlib.pyplot as plt\n",
    "import codecs\n",
    "from gensim.models import Word2Vec\n",
    "import tensorflow as tf"
   ]
  },
  {
   "cell_type": "code",
   "execution_count": null,
   "metadata": {
    "colab": {
     "base_uri": "https://localhost:8080/"
    },
    "executionInfo": {
     "elapsed": 27095,
     "status": "ok",
     "timestamp": 1607133035684,
     "user": {
      "displayName": "Mohammed Alom",
      "photoUrl": "",
      "userId": "00213456515726409899"
     },
     "user_tz": 0
    },
    "id": "PwqgAgQDxtxm",
    "outputId": "761629a8-6ed6-4f4c-85ee-5bd80b2356ac"
   },
   "outputs": [
    {
     "name": "stdout",
     "output_type": "stream",
     "text": [
      "Number of GPUs Available:  1\n",
      "Mounted at /content/gdrive\n"
     ]
    }
   ],
   "source": [
    "#Connecting with the google drive and finding out the number of GPU available\n",
    "print(\"Number of GPUs Available: \", len(tf.config.experimental.list_physical_devices('GPU')))\n",
    "from google.colab import drive\n",
    "drive.mount('/content/gdrive')"
   ]
  },
  {
   "cell_type": "code",
   "execution_count": null,
   "metadata": {
    "id": "sKrHDmCEx-88"
   },
   "outputs": [],
   "source": [
    "#Allocating the target class and initializing the variables\n",
    "target_class = ['ALE', 'ALG', 'ALX', 'AMM', 'ASW', 'BAG', 'BAS', 'BEI', 'BEN',\n",
    "                      'CAI', 'DAM', 'DOH', 'FES', 'JED', 'JER', 'KHA', 'MOS', 'MSA',\n",
    "                      'MUS', 'RAB', 'RIY', 'SAL', 'SAN', 'SFX', 'TRI', 'TUN']\n",
    "max_features = 10000\n",
    "max_len = 100\n",
    "batch_size = 32\n",
    "epochs = 10\n",
    "\n",
    "# loading the data file form google drive\n",
    "train_file ='/content/gdrive/My Drive/Colab Notebooks/nlp-data/MADAR-Corpus-26-train.tsv'\n",
    "dev_file ='/content/gdrive/My Drive/Colab Notebooks/nlp-data/MADAR-Corpus-26-dev.tsv'\n",
    "\n",
    "#train_file ='/content/gdrive/My Drive/Colab Notebooks/nlp-data/MADAR-Corpus-6-train.tsv'\n",
    "#dev_file ='/content/gdrive/My Drive/Colab Notebooks/nlp-data/MADAR-Corpus-6-dev.tsv'\n",
    "\n",
    "#pre trained models\n",
    "model_dir = '/content/gdrive/My Drive/Colab Notebooks/nlp-data/model/full_uni_cbow_100_wiki.mdl'\n",
    "#model_dir = '/content/gdrive/My Drive/Colab Notebooks/nlp-data/model/full_grams_cbow_100_wiki.mdl'\n",
    "\n",
    "#model_dir = '/content/gdrive/My Drive/Colab Notebooks/nlp-data/model/full_grams_cbow_300_twitter.mdl'\n",
    "#model_dir = '/content/gdrive/My Drive/Colab Notebooks/nlp-data/model/full_uni_sg_300_twitter.mdl'"
   ]
  },
  {
   "cell_type": "code",
   "execution_count": null,
   "metadata": {
    "id": "QmhvVjz_ypj0"
   },
   "outputs": [],
   "source": [
    "def prepare_data(data_dir):\n",
    "    labels = []\n",
    "    texts = [] \n",
    "    for label_type in target_class:#categories\n",
    "        dir_name = os.path.abspath(train_file)\n",
    "        f = codecs.open(os.path.abspath(train_file), encoding='utf8')\n",
    "        texts.append(f.read())# add the sentences to text array\n",
    "        f.close()\n",
    "        #value to assign to every class\n",
    "        if label_type in ['MSA']:  \n",
    "            labels.append(0)\n",
    "        elif label_type in ['BEI']: \n",
    "            labels.append(1)\n",
    "        elif label_type in ['DOH']: \n",
    "            labels.append(2)\n",
    "        elif label_type in ['RAB']: \n",
    "            labels.append(3)\n",
    "        elif label_type in ['CAI']: \n",
    "            labels.append(4)\n",
    "        elif label_type in ['TUN']:\n",
    "            labels.append(5)       \n",
    "        elif label_type in ['ALE']:\n",
    "            labels.append(6)           \n",
    "        elif label_type in ['ALG']:\n",
    "            labels.append(7)\n",
    "        elif label_type in ['ALX']:\n",
    "            labels.append(8)\n",
    "        elif label_type in ['AMM']:\n",
    "            labels.append(9)\n",
    "        elif label_type in ['ASW']:\n",
    "            labels.append(10)\n",
    "        elif label_type in ['BAG']:\n",
    "            labels.append(11)\n",
    "        elif label_type in ['BAS']:\n",
    "            labels.append(12)\n",
    "        elif label_type in ['BEN']:\n",
    "            labels.append(13)\n",
    "        elif label_type in ['DAM']:\n",
    "            labels.append(14)\n",
    "        elif label_type in ['FES']:\n",
    "            labels.append(15)\n",
    "        elif label_type in ['JED']:\n",
    "            labels.append(16)\n",
    "        elif label_type in ['JER']:\n",
    "            labels.append(17)\n",
    "        elif label_type in ['KHA']:\n",
    "            labels.append(18)\n",
    "        elif label_type in ['MOS']:\n",
    "            labels.append(19)\n",
    "        elif label_type in ['MUS']:\n",
    "            labels.append(20)\n",
    "        elif label_type in ['RIY']:\n",
    "            labels.append(21)\n",
    "        elif label_type in ['SAL']:\n",
    "            labels.append(22)\n",
    "        elif label_type in ['SAN']:\n",
    "            labels.append(23)\n",
    "        elif label_type in ['SFX']:\n",
    "            labels.append(24)\n",
    "        elif label_type in ['TRI']:\n",
    "            labels.append(25)\n",
    "    return texts, labels"
   ]
  },
  {
   "cell_type": "code",
   "execution_count": null,
   "metadata": {
    "id": "D-_9snkfyvkN"
   },
   "outputs": [],
   "source": [
    "def load_data(data_dir, maxlen,max_words, test= False ):\n",
    "#train_directory  \n",
    "    labels = []\n",
    "    texts = []\n",
    "    #calling prepare_data function\n",
    "    texts, labels = prepare_data(data_dir)\n",
    "\n",
    "    #spliting and tokenize the data\n",
    "    tokenizer = Tokenizer(num_words=max_words,split=' ')\n",
    "    #list of texts\n",
    "    tokenizer.fit_on_texts(texts)\n",
    "    sequences = tokenizer.texts_to_sequences(texts)\n",
    "    word_index = tokenizer.word_index\n",
    "    print('Found %s total unique tokens.' % len(word_index))\n",
    "\n",
    "    #ensure all the sentences have the same length\n",
    "    data = pad_sequences(sequences, maxlen=maxlen)\n",
    "    #converting the leves to an array\n",
    "    labels = np.asarray(labels)\n",
    "    print('Shape of data tensor:', data.shape)\n",
    "    print('Shape of label tensor:', labels.shape)\n",
    "\n",
    "    indices = np.arange(data.shape[0])\n",
    "    np.random.shuffle(indices)\n",
    "    data = data[indices]\n",
    "    labels = labels[indices]\n",
    "    x_data = data[:]\n",
    "    if test:\n",
    "        y_data = np.asarray(labels) \n",
    "    else:\n",
    "        y_data = labels[:]\n",
    "        #converting the vector to binary matrix\n",
    "    y_data = to_categorical(y_data, num_classes=len(target_class))\n",
    "    return x_data, y_data"
   ]
  },
  {
   "cell_type": "code",
   "execution_count": null,
   "metadata": {
    "colab": {
     "base_uri": "https://localhost:8080/"
    },
    "executionInfo": {
     "elapsed": 56170,
     "status": "ok",
     "timestamp": 1607133064769,
     "user": {
      "displayName": "Mohammed Alom",
      "photoUrl": "",
      "userId": "00213456515726409899"
     },
     "user_tz": 0
    },
    "id": "1sXTTyGhy1eg",
    "outputId": "a6b9d6b6-faec-4598-8971-6b05aba9960a"
   },
   "outputs": [
    {
     "name": "stdout",
     "output_type": "stream",
     "text": [
      "Found 27528 total unique tokens.\n",
      "Shape of data tensor: (26, 100)\n",
      "Shape of label tensor: (26,)\n",
      "Found 27528 total unique tokens.\n",
      "Shape of data tensor: (26, 100)\n",
      "Shape of label tensor: (26,)\n",
      "Total input_train shape: (26, 100)\n",
      "Total input_test shape: (26, 100)\n"
     ]
    }
   ],
   "source": [
    "#Finding the total train and test shape of the data\n",
    "input_train, y_train = load_data(train_file,max_len,max_features)\n",
    "input_test, y_test = load_data(dev_file,max_len,max_features,test= True)\n",
    "print('Total input_train shape:', input_train.shape)\n",
    "print('Total input_test shape:', input_test.shape)"
   ]
  },
  {
   "cell_type": "code",
   "execution_count": null,
   "metadata": {
    "id": "OYxOSNjf0HiM"
   },
   "outputs": [],
   "source": [
    "#Building the prebuild keras LStM model\n",
    "def build_keras_model_LSTM(max_len, max_features):\n",
    "    model = Sequential()\n",
    "    #converting the low dimentional space to high dimentional vectors\n",
    "    #change the embedding dim which is model length \n",
    "    model.add(Embedding(max_features, 100, input_length= max_len))\n",
    "    model.add(Bidirectional(LSTM(32)))\n",
    "    #randomly drop units from the neural network during training\n",
    "    model.add(Dropout(0.25))\n",
    "    #Optimizing the model\n",
    "    model.add(Dense(len(target_class), activation='sigmoid',kernel_regularizer=regularizers.l2(0.01),\n",
    "            activity_regularizer=regularizers.l1(0.01)))\n",
    "    model.summary()\n",
    "    model.compile(optimizer='adam',loss='categorical_crossentropy', metrics=['acc'])\n",
    "    print(model.summary())\n",
    "    return model"
   ]
  },
  {
   "cell_type": "code",
   "execution_count": null,
   "metadata": {
    "colab": {
     "base_uri": "https://localhost:8080/"
    },
    "executionInfo": {
     "elapsed": 70576,
     "status": "ok",
     "timestamp": 1607133079182,
     "user": {
      "displayName": "Mohammed Alom",
      "photoUrl": "",
      "userId": "00213456515726409899"
     },
     "user_tz": 0
    },
    "id": "i7jKcbPl0pHy",
    "outputId": "cef7cb9a-f076-4c51-c266-3a893c248563"
   },
   "outputs": [
    {
     "name": "stdout",
     "output_type": "stream",
     "text": [
      "Model: \"sequential\"\n",
      "_________________________________________________________________\n",
      "Layer (type)                 Output Shape              Param #   \n",
      "=================================================================\n",
      "embedding (Embedding)        (None, 100, 100)          1000000   \n",
      "_________________________________________________________________\n",
      "bidirectional (Bidirectional (None, 64)                34048     \n",
      "_________________________________________________________________\n",
      "dropout (Dropout)            (None, 64)                0         \n",
      "_________________________________________________________________\n",
      "dense (Dense)                (None, 26)                1690      \n",
      "=================================================================\n",
      "Total params: 1,035,738\n",
      "Trainable params: 1,035,738\n",
      "Non-trainable params: 0\n",
      "_________________________________________________________________\n",
      "Model: \"sequential\"\n",
      "_________________________________________________________________\n",
      "Layer (type)                 Output Shape              Param #   \n",
      "=================================================================\n",
      "embedding (Embedding)        (None, 100, 100)          1000000   \n",
      "_________________________________________________________________\n",
      "bidirectional (Bidirectional (None, 64)                34048     \n",
      "_________________________________________________________________\n",
      "dropout (Dropout)            (None, 64)                0         \n",
      "_________________________________________________________________\n",
      "dense (Dense)                (None, 26)                1690      \n",
      "=================================================================\n",
      "Total params: 1,035,738\n",
      "Trainable params: 1,035,738\n",
      "Non-trainable params: 0\n",
      "_________________________________________________________________\n",
      "None\n",
      "Epoch 1/100\n",
      "1/1 [==============================] - 1s 617ms/step - loss: 3.7641 - acc: 0.0000e+00 - val_loss: 3.7620 - val_acc: 0.1667\n",
      "Epoch 2/100\n",
      "1/1 [==============================] - 0s 21ms/step - loss: 3.7600 - acc: 0.0500 - val_loss: 3.7621 - val_acc: 0.0000e+00\n",
      "Epoch 3/100\n",
      "1/1 [==============================] - 0s 22ms/step - loss: 3.7552 - acc: 0.0000e+00 - val_loss: 3.7623 - val_acc: 0.0000e+00\n"
     ]
    }
   ],
   "source": [
    "model_LSTM = build_keras_model_LSTM(max_len, max_features)\n",
    "#Specify the performance mesuare to monitor\n",
    "early_stopping = EarlyStopping(monitor='val_loss', patience=2)\n",
    "history_LSTM = model_LSTM.fit(input_train, y_train,\n",
    "                    epochs=100,\n",
    "                    batch_size=batch_size,\n",
    "                    callbacks=[early_stopping],\n",
    "                    validation_split=0.2)\n",
    "model = model_LSTM\n",
    "history = history_LSTM"
   ]
  },
  {
   "cell_type": "code",
   "execution_count": null,
   "metadata": {
    "colab": {
     "base_uri": "https://localhost:8080/",
     "height": 1000
    },
    "executionInfo": {
     "elapsed": 71716,
     "status": "ok",
     "timestamp": 1607133080327,
     "user": {
      "displayName": "Mohammed Alom",
      "photoUrl": "",
      "userId": "00213456515726409899"
     },
     "user_tz": 0
    },
    "id": "XPhcZ8_91MJ9",
    "outputId": "d4bd4074-475a-4778-b04f-b6b715cc9049"
   },
   "outputs": [
    {
     "data": {
      "image/png": "[encoded data removed]",
      "text/plain": [
       "<Figure size 432x288 with 1 Axes>"
      ]
     },
     "metadata": {
      "needs_background": "light",
      "tags": []
     },
     "output_type": "display_data"
    },
    {
     "data": {
      "image/png": "[encoded data removed]",
      "text/plain": [
       "<Figure size 432x288 with 1 Axes>"
      ]
     },
     "metadata": {
      "needs_background": "light",
      "tags": []
     },
     "output_type": "display_data"
    },
    {
     "name": "stdout",
     "output_type": "stream",
     "text": [
      "1/1 - 0s\n",
      "              precision    recall  f1-score   support\n",
      "\n",
      "         ALE       0.00      0.00      0.00         1\n",
      "         ALG       0.00      0.00      0.00         1\n",
      "         ALX       0.00      0.00      0.00         1\n",
      "         AMM       0.00      0.00      0.00         1\n",
      "         ASW       0.00      0.00      0.00         1\n",
      "         BAG       0.00      0.00      0.00         1\n",
      "         BAS       0.00      0.00      0.00         1\n",
      "         BEI       0.00      0.00      0.00         1\n",
      "         BEN       0.00      0.00      0.00         1\n",
      "         CAI       0.00      0.00      0.00         1\n",
      "         DAM       0.00      0.00      0.00         1\n",
      "         DOH       0.00      0.00      0.00         1\n",
      "         FES       0.00      0.00      0.00         1\n",
      "         JED       0.00      0.00      0.00         1\n",
      "         JER       0.00      0.00      0.00         1\n",
      "         KHA       0.00      0.00      0.00         1\n",
      "         MOS       0.00      0.00      0.00         1\n",
      "         MSA       0.00      0.00      0.00         1\n",
      "         MUS       0.00      0.00      0.00         1\n",
      "         RAB       0.00      0.00      0.00         1\n",
      "         RIY       0.00      0.00      0.00         1\n",
      "         SAL       0.00      0.00      0.00         1\n",
      "         SAN       0.00      0.00      0.00         1\n",
      "         SFX       0.00      0.00      0.00         1\n",
      "         TRI       0.04      1.00      0.07         1\n",
      "         TUN       0.00      0.00      0.00         1\n",
      "\n",
      "    accuracy                           0.04        26\n",
      "   macro avg       0.00      0.04      0.00        26\n",
      "weighted avg       0.00      0.04      0.00        26\n",
      "\n",
      "Accuracy: 3.85%\n"
     ]
    },
    {
     "name": "stderr",
     "output_type": "stream",
     "text": [
      "/usr/local/lib/python3.6/dist-packages/sklearn/metrics/_classification.py:1272: UndefinedMetricWarning: Precision and F-score are ill-defined and being set to 0.0 in labels with no predicted samples. Use `zero_division` parameter to control this behavior.\n",
      "  _warn_prf(average, modifier, msg_start, len(result))\n"
     ]
    }
   ],
   "source": [
    "def plot_show(history):\n",
    "    acc = history.history['acc']\n",
    "    val_acc = history.history['val_acc']\n",
    "    loss = history.history['loss']\n",
    "    val_loss = history.history['val_loss']\n",
    "    epochs = range(1, len(acc) + 1)\n",
    "    plt.plot(epochs, acc, 'bo', label='Training acc')\n",
    "    plt.plot(epochs, val_acc, 'b', label='Validation acc')\n",
    "    plt.title('Training and validation accuracy')\n",
    "    plt.legend()\n",
    "    plt.figure()\n",
    "    plt.plot(epochs, loss, 'bo', label='Training loss')\n",
    "    plt.plot(epochs, val_loss, 'b', label='Validation loss')\n",
    "    plt.title('Training and validation loss')\n",
    "    plt.legend()\n",
    "    plt.show()\n",
    "\n",
    "plot_show(history)\n",
    "scores= model.evaluate(input_test, y_test,verbose=0)\n",
    "predicte = model.predict(input_test, verbose = 2, batch_size = batch_size)\n",
    "print(metrics.classification_report(y_test.argmax(axis=1), np.argmax(predicte[:,:],axis=1),target_names = target_class))\n",
    "print(\"Accuracy: %.2f%%\" % (scores[1]*100))\n",
    "\n",
    "#from sklearn.metrics import f1_score\n",
    "#metrics.f1_score(y_test, predicte, labels=np.unique(predicte))"
   ]
  },
  {
   "cell_type": "code",
   "execution_count": null,
   "metadata": {
    "id": "6eQXFx_b4Mqv"
   },
   "outputs": [],
   "source": [
    "def plot_confusion_matrix(score, cm, title='Confusion matrix', cmap=plt.cm.Greys):\n",
    "    plt.imshow(cm, interpolation='nearest', cmap=cmap)\n",
    "    plt.title(title)\n",
    "    plt.colorbar()\n",
    "    tick_marks = np.arange(len(set(score)))\n",
    "    plt.xticks(tick_marks, score, rotation=45)\n",
    "    plt.yticks(tick_marks, score)\n",
    "    plt.tight_layout()\n",
    "    plt.ylabel('True label')\n",
    "    plt.xlabel('Predicted label')\n",
    "    return plt"
   ]
  },
  {
   "cell_type": "code",
   "execution_count": null,
   "metadata": {
    "colab": {
     "base_uri": "https://localhost:8080/",
     "height": 605
    },
    "executionInfo": {
     "elapsed": 71986,
     "status": "ok",
     "timestamp": 1607133080604,
     "user": {
      "displayName": "Mohammed Alom",
      "photoUrl": "",
      "userId": "00213456515726409899"
     },
     "user_tz": 0
    },
    "id": "HYGOpqUL4R3x",
    "outputId": "5588ef25-4d04-4a78-edb5-b61e42018ef3"
   },
   "outputs": [
    {
     "data": {
      "image/png": "[encoded data removed]",
      "text/plain": [
       "<Figure size 432x288 with 2 Axes>"
      ]
     },
     "metadata": {
      "needs_background": "light",
      "tags": []
     },
     "output_type": "display_data"
    },
    {
     "data": {
      "image/png": "[encoded data removed]",
      "text/plain": [
       "<Figure size 432x288 with 2 Axes>"
      ]
     },
     "metadata": {
      "needs_background": "light",
      "tags": []
     },
     "output_type": "display_data"
    }
   ],
   "source": [
    "cm = metrics.confusion_matrix(y_test[:,1], np.round(predicte[:,1]))\n",
    "np.set_printoptions(precision=2)\n",
    "plt.figure()\n",
    "plot_confusion_matrix(scores,cm).show    \n",
    "cm_normalized = cm.astype('float') / cm.sum(axis=1)[:, np.newaxis]\n",
    "plt.figure()\n",
    "plot_confusion_matrix(scores,cm_normalized, title='Normalized confusion matrix').show\n",
    "plt.show()"
   ]
  },
  {
   "cell_type": "code",
   "execution_count": null,
   "metadata": {
    "colab": {
     "base_uri": "https://localhost:8080/",
     "height": 1000
    },
    "executionInfo": {
     "elapsed": 74015,
     "status": "ok",
     "timestamp": 1607133082638,
     "user": {
      "displayName": "Mohammed Alom",
      "photoUrl": "",
      "userId": "00213456515726409899"
     },
     "user_tz": 0
    },
    "id": "JNxBS_Ml4Y3U",
    "outputId": "51d4b815-a945-4692-d6b3-5764da83e759"
   },
   "outputs": [
    {
     "name": "stdout",
     "output_type": "stream",
     "text": [
      "0.038461538461538464\n",
      "[[0 0 0 0 0 0 0 0 0 0 0 0 0 0 0 0 0 0 0 0 0 0 0 0 1 0]\n",
      " [0 0 0 0 0 0 0 0 0 0 0 0 0 0 0 0 0 0 0 0 0 0 0 0 1 0]\n",
      " [0 0 0 0 0 0 0 0 0 0 0 0 0 0 0 0 0 0 0 0 0 0 0 0 1 0]\n",
      " [0 0 0 0 0 0 0 0 0 0 0 0 0 0 0 0 0 0 0 0 0 0 0 0 1 0]\n",
      " [0 0 0 0 0 0 0 0 0 0 0 0 0 0 0 0 0 0 0 0 0 0 0 0 1 0]\n",
      " [0 0 0 0 0 0 0 0 0 0 0 0 0 0 0 0 0 0 0 0 0 0 0 0 1 0]\n",
      " [0 0 0 0 0 0 0 0 0 0 0 0 0 0 0 0 0 0 0 0 0 0 0 0 1 0]\n",
      " [0 0 0 0 0 0 0 0 0 0 0 0 0 0 0 0 0 0 0 0 0 0 0 0 1 0]\n",
      " [0 0 0 0 0 0 0 0 0 0 0 0 0 0 0 0 0 0 0 0 0 0 0 0 1 0]\n",
      " [0 0 0 0 0 0 0 0 0 0 0 0 0 0 0 0 0 0 0 0 0 0 0 0 1 0]\n",
      " [0 0 0 0 0 0 0 0 0 0 0 0 0 0 0 0 0 0 0 0 0 0 0 0 1 0]\n",
      " [0 0 0 0 0 0 0 0 0 0 0 0 0 0 0 0 0 0 0 0 0 0 0 0 1 0]\n",
      " [0 0 0 0 0 0 0 0 0 0 0 0 0 0 0 0 0 0 0 0 0 0 0 0 1 0]\n",
      " [0 0 0 0 0 0 0 0 0 0 0 0 0 0 0 0 0 0 0 0 0 0 0 0 1 0]\n",
      " [0 0 0 0 0 0 0 0 0 0 0 0 0 0 0 0 0 0 0 0 0 0 0 0 1 0]\n",
      " [0 0 0 0 0 0 0 0 0 0 0 0 0 0 0 0 0 0 0 0 0 0 0 0 1 0]\n",
      " [0 0 0 0 0 0 0 0 0 0 0 0 0 0 0 0 0 0 0 0 0 0 0 0 1 0]\n",
      " [0 0 0 0 0 0 0 0 0 0 0 0 0 0 0 0 0 0 0 0 0 0 0 0 1 0]\n",
      " [0 0 0 0 0 0 0 0 0 0 0 0 0 0 0 0 0 0 0 0 0 0 0 0 1 0]\n",
      " [0 0 0 0 0 0 0 0 0 0 0 0 0 0 0 0 0 0 0 0 0 0 0 0 1 0]\n",
      " [0 0 0 0 0 0 0 0 0 0 0 0 0 0 0 0 0 0 0 0 0 0 0 0 1 0]\n",
      " [0 0 0 0 0 0 0 0 0 0 0 0 0 0 0 0 0 0 0 0 0 0 0 0 1 0]\n",
      " [0 0 0 0 0 0 0 0 0 0 0 0 0 0 0 0 0 0 0 0 0 0 0 0 1 0]\n",
      " [0 0 0 0 0 0 0 0 0 0 0 0 0 0 0 0 0 0 0 0 0 0 0 0 1 0]\n",
      " [0 0 0 0 0 0 0 0 0 0 0 0 0 0 0 0 0 0 0 0 0 0 0 0 1 0]\n",
      " [0 0 0 0 0 0 0 0 0 0 0 0 0 0 0 0 0 0 0 0 0 0 0 0 1 0]]\n",
      "Accuracy: 3.85%\n"
     ]
    },
    {
     "data": {
      "image/png": "[encoded data removed]",
      "text/plain": [
       "<Figure size 720x720 with 2 Axes>"
      ]
     },
     "metadata": {
      "needs_background": "light",
      "tags": []
     },
     "output_type": "display_data"
    }
   ],
   "source": [
    "predicted = model.predict(input_test)\n",
    "predicted = np.argmax(predicted, axis=1)\n",
    "accuracy_score(y_test.argmax(axis=1), predicted)\n",
    "print(accuracy_score(y_test.argmax(axis=1), predicted))\n",
    "matrix = metrics.confusion_matrix(y_test.argmax(axis=1), predicted)\n",
    "print(matrix)\n",
    "scores= model.evaluate(input_test, y_test,verbose=0)\n",
    "print(\"Accuracy: %.2f%%\" % (scores[1]*100))\n",
    "conf_mat = metrics.confusion_matrix(y_test.argmax(axis=1), predicted)\n",
    "fig, ax = plt.subplots(figsize=(10,10))\n",
    "sns.heatmap(conf_mat, annot=True, fmt='d',\n",
    "            xticklabels=target_class, yticklabels=target_class)\n",
    "plt.ylabel('Actual')\n",
    "plt.xlabel('Predicted')\n",
    "plt.show()"
   ]
  }
 ],
 "metadata": {
  "accelerator": "GPU",
  "colab": {
   "authorship_tag": "ABX9TyPTtw8uMFvCuf7JxZhaUMCR",
   "collapsed_sections": [],
   "name": "LSTM.ipynb",
   "provenance": []
  },
  "kernelspec": {
   "display_name": "Python 3",
   "language": "python",
   "name": "python3"
  },
  "language_info": {
   "codemirror_mode": {
    "name": "ipython",
    "version": 3
   },
   "file_extension": ".py",
   "mimetype": "text/x-python",
   "name": "python",
   "nbconvert_exporter": "python",
   "pygments_lexer": "ipython3",
   "version": "3.6.12"
  }
 },
 "nbformat": 4,
 "nbformat_minor": 1
}
